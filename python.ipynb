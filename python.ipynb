{
 "cells": [
  {
   "cell_type": "markdown",
   "metadata": {},
   "source": [
    "# Python list study"
   ]
  },
  {
   "cell_type": "code",
   "execution_count": 1,
   "metadata": {
    "collapsed": true
   },
   "outputs": [],
   "source": [
    "a = [66.25, 333, 333, 1, 1234.5]\n",
    "a.count(333)\n",
    "a.insert(2,-1)\n",
    "a.index(333)\n",
    "a.remove(333)\n",
    "a.sort()\n",
    "a.pop()\n",
    "a.reverse()\n",
    "del a[0]"
   ]
  },
  {
   "cell_type": "code",
   "execution_count": 2,
   "metadata": {
    "collapsed": false
   },
   "outputs": [
    {
     "data": {
      "text/plain": [
       "deque(['Michael', 'Terry', 'Graham'])"
      ]
     },
     "execution_count": 2,
     "metadata": {},
     "output_type": "execute_result"
    }
   ],
   "source": [
    "from collections import deque\n",
    ">>> queue = deque([\"Eric\", \"John\", \"Michael\"])\n",
    ">>> queue.append(\"Terry\")           # Terry arrives\n",
    ">>> queue.append(\"Graham\")          # Graham arrives\n",
    ">>> queue.popleft()                 # The first to arrive now leaves\n",
    "'Eric'\n",
    ">>> queue.popleft()                 # The second to arrive now leaves\n",
    "'John'\n",
    ">>> queue                           # Remaining queue in order of arrival\n",
    "deque(['Michael', 'Terry', 'Graham'])"
   ]
  },
  {
   "cell_type": "code",
   "execution_count": 3,
   "metadata": {
    "collapsed": false
   },
   "outputs": [
    {
     "data": {
      "text/plain": [
       "[0, 1, 4, 9, 16, 25, 36, 49, 64, 81]"
      ]
     },
     "execution_count": 3,
     "metadata": {},
     "output_type": "execute_result"
    }
   ],
   "source": [
    "squares = [x**2 for x in range(10)]\n",
    "squares"
   ]
  },
  {
   "cell_type": "code",
   "execution_count": 4,
   "metadata": {
    "collapsed": false
   },
   "outputs": [
    {
     "data": {
      "text/plain": [
       "[(1, 3), (1, 4), (2, 3), (2, 1), (2, 4), (3, 1), (3, 4)]"
      ]
     },
     "execution_count": 4,
     "metadata": {},
     "output_type": "execute_result"
    }
   ],
   "source": [
    "[(x, y) for x in [1,2,3] for y in [3,1,4] if x != y]\n",
    "[(1, 3), (1, 4), (2, 3), (2, 1), (2, 4), (3, 1), (3, 4)]"
   ]
  },
  {
   "cell_type": "markdown",
   "metadata": {},
   "source": [
    "# Set"
   ]
  },
  {
   "cell_type": "code",
   "execution_count": 5,
   "metadata": {
    "collapsed": false
   },
   "outputs": [
    {
     "data": {
      "text/plain": [
       "{'b', 'd', 'l', 'm', 'r', 'z'}"
      ]
     },
     "execution_count": 5,
     "metadata": {},
     "output_type": "execute_result"
    }
   ],
   "source": [
    ">>> basket = ['apple', 'orange', 'apple', 'pear', 'orange', 'banana']\n",
    ">>> fruit = set(basket)               # create a set without duplicates\n",
    ">>> fruit\n",
    "set(['orange', 'pear', 'apple', 'banana'])\n",
    ">>> 'orange' in fruit                 # fast membership testing\n",
    "True\n",
    ">>> 'crabgrass' in fruit\n",
    "False\n",
    "\n",
    ">>> # Demonstrate set operations on unique letters from two words\n",
    "...\n",
    ">>> a = set('abracadabra')\n",
    ">>> b = set('alacazam')\n",
    ">>> a                                  # unique letters in a\n",
    "set(['a', 'r', 'b', 'c', 'd'])\n",
    ">>> a - b                              # letters in a but not in b\n",
    "set(['r', 'd', 'b'])\n",
    ">>> a | b                              # letters in either a or b\n",
    "set(['a', 'c', 'r', 'd', 'b', 'm', 'z', 'l'])\n",
    ">>> a & b                              # letters in both a and b\n",
    "set(['a', 'c'])\n",
    ">>> a ^ b                              # letters in a or b but not both\n",
    "set(['r', 'd', 'b', 'm', 'z', 'l'])"
   ]
  },
  {
   "cell_type": "code",
   "execution_count": 6,
   "metadata": {
    "collapsed": false
   },
   "outputs": [
    {
     "data": {
      "text/plain": [
       "{'d', 'r'}"
      ]
     },
     "execution_count": 6,
     "metadata": {},
     "output_type": "execute_result"
    }
   ],
   "source": [
    ">>> a = {x for x in 'abracadabra' if x not in 'abc'}\n",
    ">>> a"
   ]
  },
  {
   "cell_type": "code",
   "execution_count": null,
   "metadata": {
    "collapsed": true
   },
   "outputs": [],
   "source": []
  }
 ],
 "metadata": {
  "kernelspec": {
   "display_name": "Python 3",
   "language": "python",
   "name": "python3"
  },
  "language_info": {
   "codemirror_mode": {
    "name": "ipython",
    "version": 3
   },
   "file_extension": ".py",
   "mimetype": "text/x-python",
   "name": "python",
   "nbconvert_exporter": "python",
   "pygments_lexer": "ipython3",
   "version": "3.5.1"
  }
 },
 "nbformat": 4,
 "nbformat_minor": 0
}
